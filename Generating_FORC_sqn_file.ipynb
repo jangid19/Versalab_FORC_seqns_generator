{
 "cells": [
  {
   "attachments": {},
   "cell_type": "markdown",
   "id": "3c16f51f-8618-4e47-a217-1c0f872a93fc",
   "metadata": {},
   "source": [
    "# Script for generating sequence file for FORC measurements\n",
    "### For measurements done on `Versalab VSM` "
   ]
  },
  {
   "cell_type": "code",
   "execution_count": 1,
   "id": "637e789e-bccf-4e86-9796-ca882394477e",
   "metadata": {},
   "outputs": [],
   "source": [
    "import numpy as np\n",
    "import matplotlib.pyplot as plt\n",
    "# import misc_fctns as mf\n",
    "import FORC_functions_RJ as FORCs\n",
    "import pandas as pd\n",
    "from sys import platform\n",
    "from pathlib import Path"
   ]
  },
  {
   "attachments": {},
   "cell_type": "markdown",
   "id": "ea5c145a-e686-405c-81f2-66816b14dd60",
   "metadata": {},
   "source": [
    "## File save directory initial setup parameters"
   ]
  },
  {
   "cell_type": "code",
   "execution_count": 11,
   "id": "9e3e7be2-29eb-40ae-83bc-642c608bcbec",
   "metadata": {},
   "outputs": [],
   "source": [
    "# path to save dir and file name \n",
    "file_save_dir_linux = \"Exported_sqns_files\"\n",
    "file_save_dir_mac = \"Exported_sqns_files\"\n",
    "file_save_dir_windows = \"Exported_sqns_files\"\n",
    "\n",
    "data_file_names = \"NN9_FORC\"\n",
    "\n",
    "name_seq_file = 'test_file.seq'\n",
    "\n",
    "seq_file_path_n_name = \"FORC_sqns_file.seq\"\n",
    "\n",
    "if platform == \"linux\" or platform == \"linux2\":\n",
    "    save_file_dir = file_save_dir_linux\n",
    "elif platform == \"win64\" or platform == \"win32\":\n",
    "    save_file_dir = file_save_dir_windows\n",
    "elif platform == \"darwin\":\n",
    "    save_file_dir = file_save_dir_mac\n",
    "    "
   ]
  },
  {
   "attachments": {},
   "cell_type": "markdown",
   "id": "e9b1f4f5-3954-42ef-bc4f-5d8806dcab52",
   "metadata": {},
   "source": [
    "## Get the OS type for formating file paths"
   ]
  },
  {
   "cell_type": "code",
   "execution_count": 12,
   "id": "2aeb109e-8856-4359-a0dd-60d15d6f7288",
   "metadata": {},
   "outputs": [],
   "source": [
    "concat_1, concat_2, concat_3 = FORCs.concat_type()"
   ]
  },
  {
   "cell_type": "code",
   "execution_count": 16,
   "metadata": {},
   "outputs": [
    {
     "name": "stdout",
     "output_type": "stream",
     "text": [
      "Exported_sqns_files\\test_file.seq\n"
     ]
    }
   ],
   "source": [
    "final_seq_file_path_n_name = save_file_dir + concat_1 + name_seq_file\n",
    "print(final_seq_file_path_n_name)"
   ]
  },
  {
   "attachments": {},
   "cell_type": "markdown",
   "metadata": {},
   "source": [
    "# Using function to generate seq files"
   ]
  },
  {
   "cell_type": "code",
   "execution_count": 15,
   "metadata": {},
   "outputs": [
    {
     "name": "stdout",
     "output_type": "stream",
     "text": [
      "Done generating the sequence file!!!\n",
      "Seqence exported at:\n",
      "Exported_sqns_files\\test_file.seq\n"
     ]
    }
   ],
   "source": [
    "# FORCs\n",
    "FORCs.seqns_FORC_measurements_V1(set_temp = 50, temp_rate = 10, ampli = 2, freq = 39.7, H_sat = 500, max_field = 300, min_field = -300, max_reversal_field = 50,\\\n",
    "    min_reversal_field = -150, N_FORCs = 200, step_size = 0.5, avging_time = 1, N_repeat = 1, seq_file_path_n_name = final_seq_file_path_n_name, data_file_path = data_file_loc, data_file_name = (data_file_names+'.DAT'))"
   ]
  }
 ],
 "metadata": {
  "kernelspec": {
   "display_name": "Fermi_Analysis_1",
   "language": "python",
   "name": "python3"
  },
  "language_info": {
   "codemirror_mode": {
    "name": "ipython",
    "version": 3
   },
   "file_extension": ".py",
   "mimetype": "text/x-python",
   "name": "python",
   "nbconvert_exporter": "python",
   "pygments_lexer": "ipython3",
   "version": "3.10.4"
  },
  "orig_nbformat": 4,
  "vscode": {
   "interpreter": {
    "hash": "49734df12f465d4ba22ff2bf8ea8324bc8d71562f09beec22be2ddb3b26e52e9"
   }
  }
 },
 "nbformat": 4,
 "nbformat_minor": 2
}
