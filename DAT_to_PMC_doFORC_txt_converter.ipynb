{
 "cells": [
  {
   "attachments": {},
   "cell_type": "markdown",
   "id": "3c16f51f-8618-4e47-a217-1c0f872a93fc",
   "metadata": {},
   "source": [
    "# Plotting AC Susceptibility data\n",
    "### For data from `PPMS` "
   ]
  },
  {
   "cell_type": "code",
   "execution_count": 1,
   "id": "637e789e-bccf-4e86-9796-ca882394477e",
   "metadata": {},
   "outputs": [],
   "source": [
    "from sys import platform\n",
    "import FORC_functions_RJ as FORCs"
   ]
  },
  {
   "attachments": {},
   "cell_type": "markdown",
   "id": "ea5c145a-e686-405c-81f2-66816b14dd60",
   "metadata": {},
   "source": [
    "## File path and analysis options"
   ]
  },
  {
   "cell_type": "code",
   "execution_count": 2,
   "id": "9e3e7be2-29eb-40ae-83bc-642c608bcbec",
   "metadata": {},
   "outputs": [],
   "source": [
    "# path and file name \n",
    "path_linux = 'Data_files'\n",
    "path_mac = 'Data_files'\n",
    "path_windows = 'Data_files'\n",
    "\n",
    "# Location of a sample PMC file to pull the headers from\n",
    "sample_PMC_path_linux = 'cube24.txt'\n",
    "sample_PMC_path_mac = 'cube24.txt'\n",
    "sample_PMC_path_windows = 'cube24.txt'\n",
    "\n",
    "# Location to save the .forc file in PMC or Generic file format\n",
    "file_save_dir_linux = 'Exported_PMC_files'\n",
    "file_save_dir_mac = 'Exported_PMC_files'\n",
    "file_save_dir_windows = 'Exported_PMC_files'\n",
    "\n",
    "save_fig_bool = False\n",
    "\n",
    "if platform == \"linux\" or platform == \"linux2\":\n",
    "    path = path_linux\n",
    "    save_file_dir = file_save_dir_linux\n",
    "    path_PMC = sample_PMC_path_linux\n",
    "elif platform == \"win64\" or platform == \"win32\":\n",
    "    path = path_windows\n",
    "    save_file_dir = file_save_dir_windows\n",
    "    path_PMC = sample_PMC_path_windows\n",
    "elif platform == \"darwin\":\n",
    "    path = path_mac\n",
    "    save_file_dir = file_save_dir_mac\n",
    "    path_PMC = sample_PMC_path_mac\n",
    "\n",
    "\n",
    "sample = \"S23_200K\""
   ]
  },
  {
   "cell_type": "code",
   "execution_count": 3,
   "id": "3e0a67fc",
   "metadata": {},
   "outputs": [],
   "source": [
    "concat_1, concat_2, concat_3 = FORCs.concat_type()"
   ]
  },
  {
   "attachments": {},
   "cell_type": "markdown",
   "id": "e9b1f4f5-3954-42ef-bc4f-5d8806dcab52",
   "metadata": {},
   "source": [
    "# Exporting processed data file"
   ]
  },
  {
   "attachments": {},
   "cell_type": "markdown",
   "id": "e9b1f4f5-3954-42ef-bc4f-5d8806dcab52",
   "metadata": {},
   "source": [
    "## PMC File"
   ]
  },
  {
   "cell_type": "code",
   "execution_count": 4,
   "id": "2e5050ca",
   "metadata": {},
   "outputs": [],
   "source": [
    "path_data_file_dir = concat_2.format(path, sample)\n",
    "sample_frc = sample + \"_1\" + \".forc\"\n",
    "name_PMC_file_export = concat_2.format(save_file_dir, sample_frc)"
   ]
  },
  {
   "cell_type": "code",
   "execution_count": 5,
   "id": "24391ddb",
   "metadata": {},
   "outputs": [
    {
     "data": {
      "text/plain": [
       "'Exported_PMC_files\\\\S23_200K_1.forc'"
      ]
     },
     "execution_count": 5,
     "metadata": {},
     "output_type": "execute_result"
    }
   ],
   "source": [
    "name_PMC_file_export"
   ]
  },
  {
   "cell_type": "code",
   "execution_count": 6,
   "id": "d51d40e6",
   "metadata": {},
   "outputs": [
    {
     "name": "stdout",
     "output_type": "stream",
     "text": [
      "Done generating a PMC file from the VSM measurement file!!\n"
     ]
    }
   ],
   "source": [
    "# Exporting the pd dataframe as .forc\n",
    "FORCs.gen_PMC_FORC_file(path_PMC, path_data_file_dir, name_PMC_file_export)"
   ]
  },
  {
   "attachments": {},
   "cell_type": "markdown",
   "id": "e9b1f4f5-3954-42ef-bc4f-5d8806dcab52",
   "metadata": {},
   "source": [
    "## Generic FORCinel file"
   ]
  },
  {
   "cell_type": "code",
   "execution_count": 7,
   "id": "2e5050ca",
   "metadata": {},
   "outputs": [],
   "source": [
    "path_data_file_dir = concat_2.format(path, sample)\n",
    "sample_frc = sample + \"_1\" + \".frc\"\n",
    "name_PMC_file_export = concat_2.format(save_file_dir, sample_frc)"
   ]
  },
  {
   "cell_type": "code",
   "execution_count": 8,
   "id": "24391ddb",
   "metadata": {},
   "outputs": [
    {
     "data": {
      "text/plain": [
       "'Exported_PMC_files\\\\S23_200K_1.frc'"
      ]
     },
     "execution_count": 8,
     "metadata": {},
     "output_type": "execute_result"
    }
   ],
   "source": [
    "name_PMC_file_export"
   ]
  },
  {
   "cell_type": "code",
   "execution_count": 9,
   "id": "d51d40e6",
   "metadata": {},
   "outputs": [
    {
     "name": "stdout",
     "output_type": "stream",
     "text": [
      "Done generating a FORCinel file from the VSM measurement file!!\n"
     ]
    }
   ],
   "source": [
    "# Exporting the pd dataframe as .forc\n",
    "FORCs.gen_generic_FORC_file_from_PMC_data(path_data_file_dir, name_PMC_file_export, generic_type = 'FORCinel')"
   ]
  },
  {
   "attachments": {},
   "cell_type": "markdown",
   "id": "e9b1f4f5-3954-42ef-bc4f-5d8806dcab52",
   "metadata": {},
   "source": [
    "## Generic doFORC file"
   ]
  },
  {
   "cell_type": "code",
   "execution_count": 10,
   "id": "2e5050ca",
   "metadata": {},
   "outputs": [],
   "source": [
    "path_data_file_dir = concat_2.format(path, sample)\n",
    "sample_frc = sample + \"_1\" + \".DAT\"\n",
    "name_PMC_file_export = concat_2.format(save_file_dir, sample_frc)"
   ]
  },
  {
   "cell_type": "code",
   "execution_count": 11,
   "id": "24391ddb",
   "metadata": {},
   "outputs": [
    {
     "data": {
      "text/plain": [
       "'Exported_PMC_files\\\\S23_200K_1.DAT'"
      ]
     },
     "execution_count": 11,
     "metadata": {},
     "output_type": "execute_result"
    }
   ],
   "source": [
    "name_PMC_file_export"
   ]
  },
  {
   "cell_type": "code",
   "execution_count": 12,
   "id": "d51d40e6",
   "metadata": {},
   "outputs": [
    {
     "name": "stdout",
     "output_type": "stream",
     "text": [
      "Done generating a doFORC file from the VSM measurement file!!\n"
     ]
    }
   ],
   "source": [
    "# Exporting the pd dataframe as .forc\n",
    "FORCs.gen_generic_FORC_file_from_PMC_data(path_data_file_dir, name_PMC_file_export, generic_type = 'doFORC')"
   ]
  }
 ],
 "metadata": {
  "kernelspec": {
   "display_name": "Fermi_Analysis_1",
   "language": "python",
   "name": "python3"
  },
  "language_info": {
   "codemirror_mode": {
    "name": "ipython",
    "version": 3
   },
   "file_extension": ".py",
   "mimetype": "text/x-python",
   "name": "python",
   "nbconvert_exporter": "python",
   "pygments_lexer": "ipython3",
   "version": "3.10.4"
  },
  "vscode": {
   "interpreter": {
    "hash": "49734df12f465d4ba22ff2bf8ea8324bc8d71562f09beec22be2ddb3b26e52e9"
   }
  }
 },
 "nbformat": 4,
 "nbformat_minor": 5
}
